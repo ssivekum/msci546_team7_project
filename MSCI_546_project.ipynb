{
  "cells": [
    {
      "cell_type": "markdown",
      "metadata": {
        "id": "0wkaPdDAI7de"
      },
      "source": [
        "# Imports"
      ]
    },
    {
      "cell_type": "code",
      "execution_count": null,
      "metadata": {
        "id": "96KqumcOw8UP"
      },
      "outputs": [
        {
          "ename": "",
          "evalue": "",
          "output_type": "error",
          "traceback": [
            "\u001b[1;31mRunning cells with 'c:\\Users\\sutha\\AppData\\Local\\Programs\\Python\\Python37-32\\python.exe' requires the ipykernel package.\n",
            "\u001b[1;31mRun the following command to install 'ipykernel' into the Python environment. \n",
            "\u001b[1;31mCommand: 'c:/Users/sutha/AppData/Local/Programs/Python/Python37-32/python.exe -m pip install ipykernel -U --user --force-reinstall'"
          ]
        }
      ],
      "source": [
        "import pandas as pd\n",
        "import numpy as np\n",
        "import xgboost as xgb\n",
        "import lightgbm as lgb\n",
        "from sklearn.model_selection import train_test_split, RandomizedSearchCV\n",
        "from sklearn.linear_model import LinearRegression, LassoCV\n",
        "from sklearn.ensemble import RandomForestRegressor\n",
        "from sklearn.neural_network import MLPRegressor\n",
        "from sklearn.metrics import mean_squared_error, mean_absolute_error, r2_score\n"
      ]
    },
    {
      "cell_type": "markdown",
      "metadata": {
        "id": "8l19z9VLJEH8"
      },
      "source": [
        "# Load Dataset"
      ]
    },
    {
      "cell_type": "code",
      "execution_count": null,
      "metadata": {
        "colab": {
          "base_uri": "https://localhost:8080/"
        },
        "id": "dOC7BdNDxdJW",
        "outputId": "82473843-d631-4ce6-b41c-5e3b6b844a6c"
      },
      "outputs": [
        {
          "ename": "",
          "evalue": "",
          "output_type": "error",
          "traceback": [
            "\u001b[1;31mRunning cells with 'c:\\Users\\sutha\\AppData\\Local\\Programs\\Python\\Python37-32\\python.exe' requires the ipykernel package.\n",
            "\u001b[1;31mRun the following command to install 'ipykernel' into the Python environment. \n",
            "\u001b[1;31mCommand: 'c:/Users/sutha/AppData/Local/Programs/Python/Python37-32/python.exe -m pip install ipykernel -U --user --force-reinstall'"
          ]
        }
      ],
      "source": [
        "train = pd.read_csv(\"train.csv\")\n",
        "train.drop(\"Id\", axis = 1, inplace = True)"
      ]
    },
    {
      "cell_type": "markdown",
      "metadata": {
        "id": "xiMQItOPJGfe"
      },
      "source": [
        "# Log Transform"
      ]
    },
    {
      "cell_type": "code",
      "execution_count": null,
      "metadata": {
        "id": "I4CnBpHOxhjn"
      },
      "outputs": [
        {
          "ename": "",
          "evalue": "",
          "output_type": "error",
          "traceback": [
            "\u001b[1;31mRunning cells with 'c:\\Users\\sutha\\AppData\\Local\\Programs\\Python\\Python37-32\\python.exe' requires the ipykernel package.\n",
            "\u001b[1;31mRun the following command to install 'ipykernel' into the Python environment. \n",
            "\u001b[1;31mCommand: 'c:/Users/sutha/AppData/Local/Programs/Python/Python37-32/python.exe -m pip install ipykernel -U --user --force-reinstall'"
          ]
        }
      ],
      "source": [
        "# Log transform the target as described by the competition guidelines\n",
        "train['SalePrice'] = np.log1p(train['SalePrice'])\n",
        "y = train['SalePrice']"
      ]
    },
    {
      "cell_type": "markdown",
      "metadata": {
        "id": "rC5limZbJJKk"
      },
      "source": [
        "# Fill Missing Values"
      ]
    },
    {
      "cell_type": "code",
      "execution_count": null,
      "metadata": {
        "colab": {
          "base_uri": "https://localhost:8080/"
        },
        "id": "45qmKLP8xrw8",
        "outputId": "195172db-3eb0-4993-bac4-e434e4070a2d"
      },
      "outputs": [
        {
          "ename": "",
          "evalue": "",
          "output_type": "error",
          "traceback": [
            "\u001b[1;31mRunning cells with 'c:\\Users\\sutha\\AppData\\Local\\Programs\\Python\\Python37-32\\python.exe' requires the ipykernel package.\n",
            "\u001b[1;31mRun the following command to install 'ipykernel' into the Python environment. \n",
            "\u001b[1;31mCommand: 'c:/Users/sutha/AppData/Local/Programs/Python/Python37-32/python.exe -m pip install ipykernel -U --user --force-reinstall'"
          ]
        }
      ],
      "source": [
        "# Identify numerical and categorical features and missing values\n",
        "numerical_features = train.select_dtypes(exclude = [\"object\"]).columns\n",
        "numerical_features = numerical_features.drop(\"SalePrice\")\n",
        "categorical_features = train.select_dtypes(include = [\"object\"]).columns\n",
        "train_numerical_features = train[numerical_features]\n",
        "train_categorical_features = train[categorical_features]\n",
        "\n",
        "print('Number of missing numerical values: ' + str(train_numerical_features.isnull().values.sum()))\n",
        "print('Number of missing categorical values: ' + str(train_categorical_features.isnull().values.sum()))"
      ]
    },
    {
      "cell_type": "code",
      "execution_count": null,
      "metadata": {
        "colab": {
          "base_uri": "https://localhost:8080/"
        },
        "id": "FelLh5nxxtVS",
        "outputId": "c436c856-e1dd-4d9e-8ef6-5249f16bc994"
      },
      "outputs": [
        {
          "ename": "",
          "evalue": "",
          "output_type": "error",
          "traceback": [
            "\u001b[1;31mRunning cells with 'c:\\Users\\sutha\\AppData\\Local\\Programs\\Python\\Python37-32\\python.exe' requires the ipykernel package.\n",
            "\u001b[1;31mRun the following command to install 'ipykernel' into the Python environment. \n",
            "\u001b[1;31mCommand: 'c:/Users/sutha/AppData/Local/Programs/Python/Python37-32/python.exe -m pip install ipykernel -U --user --force-reinstall'"
          ]
        }
      ],
      "source": [
        "# Use median to fill in missing values for numerical features\n",
        "train_numerical_features = train_numerical_features. \\\n",
        "  fillna(train_numerical_features.median())\n",
        "# Use one hot encoding to fill in missing values for categorical features\n",
        "train_categorical_features = pd.get_dummies(train_categorical_features)\n",
        "\n",
        "print('Number of missing numerical values: ' + str(train_numerical_features.isnull().values.sum()))\n",
        "print('Number of missing categorical values: ' + str(train_categorical_features.isnull().values.sum()))"
      ]
    },
    {
      "cell_type": "markdown",
      "metadata": {
        "id": "e0A1DFunJMos"
      },
      "source": [
        "# Train-Test Split"
      ]
    },
    {
      "cell_type": "code",
      "execution_count": null,
      "metadata": {
        "id": "j8eyKI3KGKBT"
      },
      "outputs": [
        {
          "ename": "",
          "evalue": "",
          "output_type": "error",
          "traceback": [
            "\u001b[1;31mRunning cells with 'c:\\Users\\sutha\\AppData\\Local\\Programs\\Python\\Python37-32\\python.exe' requires the ipykernel package.\n",
            "\u001b[1;31mRun the following command to install 'ipykernel' into the Python environment. \n",
            "\u001b[1;31mCommand: 'c:/Users/sutha/AppData/Local/Programs/Python/Python37-32/python.exe -m pip install ipykernel -U --user --force-reinstall'"
          ]
        }
      ],
      "source": [
        "# Split dataset into train and test\n",
        "train = pd.concat([train_numerical_features, train_categorical_features], \\\n",
        "                  axis = 1)\n",
        "X_train, X_test, y_train, y_test = train_test_split(train, y, test_size = 0.3, \\\n",
        "                                                    random_state = 42)"
      ]
    },
    {
      "cell_type": "markdown",
      "metadata": {
        "id": "-dASWrJjJSb5"
      },
      "source": [
        "# (1) Linear Regression - Baseline"
      ]
    },
    {
      "cell_type": "code",
      "execution_count": null,
      "metadata": {
        "colab": {
          "base_uri": "https://localhost:8080/"
        },
        "id": "37XrHLq9JVHM",
        "outputId": "d8ada570-62b4-4f42-9f95-81349755885b"
      },
      "outputs": [
        {
          "ename": "",
          "evalue": "",
          "output_type": "error",
          "traceback": [
            "\u001b[1;31mRunning cells with 'c:\\Users\\sutha\\AppData\\Local\\Programs\\Python\\Python37-32\\python.exe' requires the ipykernel package.\n",
            "\u001b[1;31mRun the following command to install 'ipykernel' into the Python environment. \n",
            "\u001b[1;31mCommand: 'c:/Users/sutha/AppData/Local/Programs/Python/Python37-32/python.exe -m pip install ipykernel -U --user --force-reinstall'"
          ]
        }
      ],
      "source": [
        "lr = LinearRegression()\n",
        "lr.fit(X_train, y_train)\n",
        "\n",
        "y_train_preds = lr.predict(X_train)\n",
        "y_test_preds = lr.predict(X_test)\n",
        "\n",
        "# MSE\n",
        "print('MSE (train):', mean_squared_error(y_train, y_train_preds))\n",
        "print('MSE (test):', mean_squared_error(y_test, y_test_preds))\n",
        "\n",
        "# RMSE\n",
        "print('RMSE (train):',  np.sqrt(mean_squared_error(y_train, y_train_preds)))\n",
        "print('RMSE (test):', np.sqrt(mean_squared_error(y_test, y_test_preds)))\n",
        "\n",
        "# MAE\n",
        "print('MAE (train):', mean_absolute_error(y_train, y_train_preds))\n",
        "print('MAE (test):', mean_absolute_error(y_test, y_test_preds))\n",
        "\n",
        "# R2 Score\n",
        "print('R2 Score (train):', r2_score(y_train, y_train_preds))\n",
        "print('R2 Score (test):', r2_score(y_test, y_test_preds))"
      ]
    },
    {
      "cell_type": "markdown",
      "metadata": {
        "id": "c_IwvfTALvFm"
      },
      "source": [
        "# (1) Linear Regression - Improved"
      ]
    },
    {
      "cell_type": "code",
      "execution_count": null,
      "metadata": {
        "colab": {
          "base_uri": "https://localhost:8080/",
          "height": 173
        },
        "id": "tqfDH0_VKSRc",
        "outputId": "16a38cac-0775-49d7-bcf6-f023db58d4d3"
      },
      "outputs": [
        {
          "ename": "",
          "evalue": "",
          "output_type": "error",
          "traceback": [
            "\u001b[1;31mRunning cells with 'c:\\Users\\sutha\\AppData\\Local\\Programs\\Python\\Python37-32\\python.exe' requires the ipykernel package.\n",
            "\u001b[1;31mRun the following command to install 'ipykernel' into the Python environment. \n",
            "\u001b[1;31mCommand: 'c:/Users/sutha/AppData/Local/Programs/Python/Python37-32/python.exe -m pip install ipykernel -U --user --force-reinstall'"
          ]
        }
      ],
      "source": [
        "params = {\"fit_intercept\": [True, False],\n",
        "          \"copy_X\": [True, False],\n",
        "          \"positive\": [True, False]\n",
        "         }\n",
        "\n",
        "improved_lr = LinearRegression()\n",
        "\n",
        "grid_lr = RandomizedSearchCV(estimator=improved_lr, \n",
        "                             param_distributions=params, \n",
        "                             cv = 2, \n",
        "                             n_jobs=-1)\n",
        "\n",
        "grid_lr.fit(X_train, y_train)"
      ]
    },
    {
      "cell_type": "code",
      "execution_count": null,
      "metadata": {
        "colab": {
          "base_uri": "https://localhost:8080/"
        },
        "id": "owigSB_LMbqX",
        "outputId": "1e7d5e4b-c92f-4749-cd83-a7a853c2cec9"
      },
      "outputs": [
        {
          "ename": "",
          "evalue": "",
          "output_type": "error",
          "traceback": [
            "\u001b[1;31mRunning cells with 'c:\\Users\\sutha\\AppData\\Local\\Programs\\Python\\Python37-32\\python.exe' requires the ipykernel package.\n",
            "\u001b[1;31mRun the following command to install 'ipykernel' into the Python environment. \n",
            "\u001b[1;31mCommand: 'c:/Users/sutha/AppData/Local/Programs/Python/Python37-32/python.exe -m pip install ipykernel -U --user --force-reinstall'"
          ]
        }
      ],
      "source": [
        "grid_lr.best_params_\n"
      ]
    },
    {
      "cell_type": "code",
      "execution_count": null,
      "metadata": {
        "colab": {
          "base_uri": "https://localhost:8080/"
        },
        "id": "qNJe2tDVQH25",
        "outputId": "9e38c862-c7d0-409c-bc28-18fd3e6d7af3"
      },
      "outputs": [
        {
          "ename": "",
          "evalue": "",
          "output_type": "error",
          "traceback": [
            "\u001b[1;31mRunning cells with 'c:\\Users\\sutha\\AppData\\Local\\Programs\\Python\\Python37-32\\python.exe' requires the ipykernel package.\n",
            "\u001b[1;31mRun the following command to install 'ipykernel' into the Python environment. \n",
            "\u001b[1;31mCommand: 'c:/Users/sutha/AppData/Local/Programs/Python/Python37-32/python.exe -m pip install ipykernel -U --user --force-reinstall'"
          ]
        }
      ],
      "source": [
        "X_train, X_test, y_train, y_test = train_test_split(train, y, test_size = 0.3, \\\n",
        "                                                    random_state = 40)\n",
        "\n",
        "best_lr = LinearRegression(positive=False, fit_intercept=True, copy_X=True)\n",
        "best_lr.fit(X_train, y_train)\n",
        "\n",
        "y_train_preds = best_lr.predict(X_train)\n",
        "y_test_preds = best_lr.predict(X_test)\n",
        "\n",
        "# MSE\n",
        "print('MSE (train):', mean_squared_error(y_train, y_train_preds))\n",
        "print('MSE (test):', mean_squared_error(y_test, y_test_preds))\n",
        "\n",
        "# RMSE\n",
        "print('RMSE (train):',  np.sqrt(mean_squared_error(y_train, y_train_preds)))\n",
        "print('RMSE (test):', np.sqrt(mean_squared_error(y_test, y_test_preds)))\n",
        "\n",
        "# MAE\n",
        "print('MAE (train):', mean_absolute_error(y_train, y_train_preds))\n",
        "print('MAE (test):', mean_absolute_error(y_test, y_test_preds))\n",
        "\n",
        "# R2 Score\n",
        "print('R2 Score (train):', r2_score(y_train, y_train_preds))\n",
        "print('R2 Score (test):', r2_score(y_test, y_test_preds))\n"
      ]
    },
    {
      "cell_type": "markdown",
      "metadata": {
        "id": "_VjkxaaWST6g"
      },
      "source": [
        "# (2) Random Forest - Baseline"
      ]
    },
    {
      "cell_type": "code",
      "execution_count": null,
      "metadata": {
        "colab": {
          "base_uri": "https://localhost:8080/",
          "height": 519
        },
        "id": "9MtwzwIJS1KV",
        "outputId": "50e12f90-1c83-4b9b-e1b5-1919d76d8a7c"
      },
      "outputs": [
        {
          "ename": "",
          "evalue": "",
          "output_type": "error",
          "traceback": [
            "\u001b[1;31mRunning cells with 'c:\\Users\\sutha\\AppData\\Local\\Programs\\Python\\Python37-32\\python.exe' requires the ipykernel package.\n",
            "\u001b[1;31mRun the following command to install 'ipykernel' into the Python environment. \n",
            "\u001b[1;31mCommand: 'c:/Users/sutha/AppData/Local/Programs/Python/Python37-32/python.exe -m pip install ipykernel -U --user --force-reinstall'"
          ]
        }
      ],
      "source": [
        "rf = RandomForestRegressor(random_state=155)\n",
        "\n",
        "rf.fit(X_train, y_train)\n",
        "\n",
        "y_train_preds = rf.predict(X_train)\n",
        "y_test_preds = rf.predict(X_test)\n",
        "\n",
        "# MSE\n",
        "print('MSE (train):', mean_squared_error(y_train, y_train_preds))\n",
        "print('MSE (test):', mean_squared_error(y_test, y_test_preds))\n",
        "\n",
        "# RMSE\n",
        "print('RMSE (train):',  np.sqrt(mean_squared_error(y_train, y_train_preds)))\n",
        "print('RMSE (test):', np.sqrt(mean_squared_error(y_test, y_test_preds)))\n",
        "\n",
        "# MAE\n",
        "print('MAE (train):', mean_absolute_error(y_train, y_train_preds))\n",
        "print('MAE (test):', mean_absolute_error(y_test, y_test_preds))\n",
        "\n",
        "# R2 Score\n",
        "print('R2 Score (train):', r2_score(y_train, y_train_preds))\n",
        "print('R2 Score (test):', r2_score(y_test, y_test_preds))\n"
      ]
    },
    {
      "cell_type": "markdown",
      "metadata": {
        "id": "vh1H8w0HTrwg"
      },
      "source": [
        "# (2) Random Forest - Improved"
      ]
    },
    {
      "cell_type": "code",
      "execution_count": null,
      "metadata": {
        "colab": {
          "base_uri": "https://localhost:8080/",
          "height": 134
        },
        "id": "ssCJBV5PTufh",
        "outputId": "752753d8-1d3e-4575-a355-615099322dd1"
      },
      "outputs": [
        {
          "ename": "",
          "evalue": "",
          "output_type": "error",
          "traceback": [
            "\u001b[1;31mRunning cells with 'c:\\Users\\sutha\\AppData\\Local\\Programs\\Python\\Python37-32\\python.exe' requires the ipykernel package.\n",
            "\u001b[1;31mRun the following command to install 'ipykernel' into the Python environment. \n",
            "\u001b[1;31mCommand: 'c:/Users/sutha/AppData/Local/Programs/Python/Python37-32/python.exe -m pip install ipykernel -U --user --force-reinstall'"
          ]
        }
      ],
      "source": [
        "rf_grid = {\"n_estimators\": np.arange(10, 2000, 10),\n",
        "           \"max_depth\": [None, 2, 4, 6, 8, 10],\n",
        "           \"min_samples_split\": np.arange(2, 10, 2),\n",
        "           \"min_samples_leaf\": np.arange(1, 10, 2),\n",
        "           \"max_features\": [1.0, \"sqrt\", \"log2\", None],\n",
        "           \"max_leaf_nodes\": [None, 2, 4, 6, 8, 10]\n",
        "           }\n",
        "\n",
        "randomized_search_rf_model = RandomizedSearchCV(RandomForestRegressor(),\n",
        "                              param_distributions=rf_grid,\n",
        "                              n_jobs=-1,\n",
        "                              random_state=42,\n",
        "                              n_iter=50,\n",
        "                              scoring='r2',\n",
        "                              cv=5,\n",
        "                              verbose=True)\n",
        "\n",
        "randomized_search_rf_model.fit(X_train, y_train)"
      ]
    },
    {
      "cell_type": "code",
      "execution_count": null,
      "metadata": {
        "colab": {
          "base_uri": "https://localhost:8080/"
        },
        "id": "5J4Qd4mrT-UH",
        "outputId": "26f23a98-b92a-43f8-edd1-83946b6cbcdd"
      },
      "outputs": [
        {
          "ename": "",
          "evalue": "",
          "output_type": "error",
          "traceback": [
            "\u001b[1;31mRunning cells with 'c:\\Users\\sutha\\AppData\\Local\\Programs\\Python\\Python37-32\\python.exe' requires the ipykernel package.\n",
            "\u001b[1;31mRun the following command to install 'ipykernel' into the Python environment. \n",
            "\u001b[1;31mCommand: 'c:/Users/sutha/AppData/Local/Programs/Python/Python37-32/python.exe -m pip install ipykernel -U --user --force-reinstall'"
          ]
        }
      ],
      "source": [
        "randomized_search_rf_model.best_params_"
      ]
    },
    {
      "cell_type": "code",
      "execution_count": null,
      "metadata": {
        "colab": {
          "base_uri": "https://localhost:8080/"
        },
        "id": "vJjlqbycUB_p",
        "outputId": "fba57a71-627d-4d33-fee3-fa5629b64b26"
      },
      "outputs": [
        {
          "ename": "",
          "evalue": "",
          "output_type": "error",
          "traceback": [
            "\u001b[1;31mRunning cells with 'c:\\Users\\sutha\\AppData\\Local\\Programs\\Python\\Python37-32\\python.exe' requires the ipykernel package.\n",
            "\u001b[1;31mRun the following command to install 'ipykernel' into the Python environment. \n",
            "\u001b[1;31mCommand: 'c:/Users/sutha/AppData/Local/Programs/Python/Python37-32/python.exe -m pip install ipykernel -U --user --force-reinstall'"
          ]
        }
      ],
      "source": [
        "best_rf_model = RandomForestRegressor(\n",
        "                           random_state=30,\n",
        "                           n_estimators=150,\n",
        "                           min_samples_split=4,\n",
        "                           min_samples_leaf=7,\n",
        "                           max_leaf_nodes=None,\n",
        "                           max_features=1.0,\n",
        "                           max_depth=8\n",
        "                             )\n",
        "\n",
        "train = pd.concat([train_numerical_features, train_categorical_features], \\\n",
        "                  axis = 1)\n",
        "X_train, X_test, y_train, y_test = train_test_split(train, y, test_size = 0.2, \\\n",
        "                                                    random_state = 49)\n",
        "\n",
        "best_rf_model.fit(X_train, y_train)\n",
        "\n",
        "y_train_preds = best_rf_model.predict(X_train)\n",
        "y_test_preds = best_rf_model.predict(X_test)\n",
        "\n",
        "# MSE\n",
        "print('MSE (train):', mean_squared_error(y_train, y_train_preds))\n",
        "print('MSE (test):', mean_squared_error(y_test, y_test_preds))\n",
        "\n",
        "# RMSE\n",
        "print('RMSE (train):',  np.sqrt(mean_squared_error(y_train, y_train_preds)))\n",
        "print('RMSE (test):', np.sqrt(mean_squared_error(y_test, y_test_preds)))\n",
        "\n",
        "# MAE\n",
        "print('MAE (train):', mean_absolute_error(y_train, y_train_preds))\n",
        "print('MAE (test):', mean_absolute_error(y_test, y_test_preds))\n",
        "\n",
        "# R2 Score\n",
        "print('R2 Score (train):', r2_score(y_train, y_train_preds))\n",
        "print('R2 Score (test):', r2_score(y_test, y_test_preds))"
      ]
    },
    {
      "cell_type": "markdown",
      "metadata": {
        "id": "VV4zK7mUVXUf"
      },
      "source": [
        "# (3) XGBoost - Baseline"
      ]
    },
    {
      "cell_type": "code",
      "execution_count": null,
      "metadata": {
        "colab": {
          "base_uri": "https://localhost:8080/"
        },
        "id": "B8No61ACVbi_",
        "outputId": "9f06f23e-c7e3-4615-c7ff-39a56cb4da77"
      },
      "outputs": [
        {
          "ename": "",
          "evalue": "",
          "output_type": "error",
          "traceback": [
            "\u001b[1;31mRunning cells with 'c:\\Users\\sutha\\AppData\\Local\\Programs\\Python\\Python37-32\\python.exe' requires the ipykernel package.\n",
            "\u001b[1;31mRun the following command to install 'ipykernel' into the Python environment. \n",
            "\u001b[1;31mCommand: 'c:/Users/sutha/AppData/Local/Programs/Python/Python37-32/python.exe -m pip install ipykernel -U --user --force-reinstall'"
          ]
        }
      ],
      "source": [
        "xgb_baseline = xgb.XGBRegressor()\n",
        "\n",
        "xgb_baseline.fit(X_train, y_train)\n",
        "\n",
        "y_train_preds = xgb_baseline.predict(X_train)\n",
        "y_test_preds = xgb_baseline.predict(X_test)\n",
        "\n",
        "# MSE\n",
        "print('MSE (train):', mean_squared_error(y_train, y_train_preds))\n",
        "print('MSE (test):', mean_squared_error(y_test, y_test_preds))\n",
        "\n",
        "# RMSE\n",
        "print('RMSE (train):',  np.sqrt(mean_squared_error(y_train, y_train_preds)))\n",
        "print('RMSE (test):', np.sqrt(mean_squared_error(y_test, y_test_preds)))\n",
        "\n",
        "# MAE\n",
        "print('MAE (train):', mean_absolute_error(y_train, y_train_preds))\n",
        "print('MAE (test):', mean_absolute_error(y_test, y_test_preds))\n",
        "\n",
        "# R2 Score\n",
        "print('R2 Score (train):', r2_score(y_train, y_train_preds))\n",
        "print('R2 Score (test):', r2_score(y_test, y_test_preds))"
      ]
    },
    {
      "cell_type": "markdown",
      "metadata": {
        "id": "BSMmm_lOVqmq"
      },
      "source": [
        "# (3) XGBoost - Improved"
      ]
    },
    {
      "cell_type": "code",
      "execution_count": null,
      "metadata": {
        "colab": {
          "base_uri": "https://localhost:8080/",
          "height": 135
        },
        "id": "1hr3E-BdCNFG",
        "outputId": "0eeeeb73-2316-46dc-d543-6da9bad9bc9e"
      },
      "outputs": [
        {
          "ename": "",
          "evalue": "",
          "output_type": "error",
          "traceback": [
            "\u001b[1;31mRunning cells with 'c:\\Users\\sutha\\AppData\\Local\\Programs\\Python\\Python37-32\\python.exe' requires the ipykernel package.\n",
            "\u001b[1;31mRun the following command to install 'ipykernel' into the Python environment. \n",
            "\u001b[1;31mCommand: 'c:/Users/sutha/AppData/Local/Programs/Python/Python37-32/python.exe -m pip install ipykernel -U --user --force-reinstall'"
          ]
        }
      ],
      "source": [
        "# Hyperparameter tuning\n",
        "# https://towardsdatascience.com/xgboost-fine-tune-and-optimize-your-model-23d996fab663\n",
        "\n",
        "dmatrix = xgb.DMatrix(data=X_train, label=y_train)\n",
        "\n",
        "params = { 'max_depth': [3,6,10],\n",
        "           'learning_rate': [0.01, 0.05, 0.1],\n",
        "           'n_estimators': [100, 500, 1000],\n",
        "           'colsample_bytree': [0.3, 0.7]\n",
        "         }\n",
        "\n",
        "xgbr = xgb.XGBRegressor()\n",
        "\n",
        "clf = RandomizedSearchCV(estimator=xgbr,\n",
        "                         param_distributions=params,\n",
        "                         n_jobs=1,\n",
        "                         scoring='r2',\n",
        "                         cv=5,\n",
        "                         verbose=1)\n",
        "\n",
        "clf.fit(X_train, y_train)"
      ]
    },
    {
      "cell_type": "code",
      "execution_count": null,
      "metadata": {
        "colab": {
          "base_uri": "https://localhost:8080/"
        },
        "id": "BAmBXgXRFMII",
        "outputId": "a1ae5679-82dd-45af-f9fe-80ab2dabf410"
      },
      "outputs": [
        {
          "ename": "",
          "evalue": "",
          "output_type": "error",
          "traceback": [
            "\u001b[1;31mRunning cells with 'c:\\Users\\sutha\\AppData\\Local\\Programs\\Python\\Python37-32\\python.exe' requires the ipykernel package.\n",
            "\u001b[1;31mRun the following command to install 'ipykernel' into the Python environment. \n",
            "\u001b[1;31mCommand: 'c:/Users/sutha/AppData/Local/Programs/Python/Python37-32/python.exe -m pip install ipykernel -U --user --force-reinstall'"
          ]
        }
      ],
      "source": [
        "clf.best_params_"
      ]
    },
    {
      "cell_type": "code",
      "execution_count": null,
      "metadata": {
        "colab": {
          "background_save": true,
          "base_uri": "https://localhost:8080/"
        },
        "id": "XLLUloesx3-N",
        "outputId": "feb29b40-fc03-4cf4-e21b-a1cd780863ff"
      },
      "outputs": [
        {
          "ename": "",
          "evalue": "",
          "output_type": "error",
          "traceback": [
            "\u001b[1;31mRunning cells with 'c:\\Users\\sutha\\AppData\\Local\\Programs\\Python\\Python37-32\\python.exe' requires the ipykernel package.\n",
            "\u001b[1;31mRun the following command to install 'ipykernel' into the Python environment. \n",
            "\u001b[1;31mCommand: 'c:/Users/sutha/AppData/Local/Programs/Python/Python37-32/python.exe -m pip install ipykernel -U --user --force-reinstall'"
          ]
        }
      ],
      "source": [
        "# Create best decision tree regression model, make predictions, and print metrics\n",
        "# https://scikit-learn.org/stable/auto_examples/tree/plot_tree_regression.html\n",
        "# https://scikit-learn.org/stable/modules/model_evaluation.html#\n",
        "\n",
        "best_xgbr_model = xgb.XGBRegressor(colsample_bytree=0.3,\n",
        "                                   learning_rate=0.01,\n",
        "                                   max_depth=10,\n",
        "                                   n_estimators=1000)\n",
        "\n",
        "best_xgbr_model.fit(X_train, y_train)\n",
        "\n",
        "y_train_preds = best_xgbr_model.predict(X_train)\n",
        "y_test_preds = best_xgbr_model.predict(X_test)\n",
        "\n",
        "# MSE\n",
        "print('MSE (train):', mean_squared_error(y_train, y_train_preds))\n",
        "print('MSE (test):', mean_squared_error(y_test, y_test_preds))\n",
        "\n",
        "# RMSE\n",
        "print('RMSE (train):',  np.sqrt(mean_squared_error(y_train, y_train_preds)))\n",
        "print('RMSE (test):', np.sqrt(mean_squared_error(y_test, y_test_preds)))\n",
        "\n",
        "# MAE\n",
        "print('MAE (train):', mean_absolute_error(y_train, y_train_preds))\n",
        "print('MAE (test):', mean_absolute_error(y_test, y_test_preds))\n",
        "\n",
        "# R2 Score\n",
        "print('R2 Score (train):', r2_score(y_train, y_train_preds))\n",
        "print('R2 Score (test):', r2_score(y_test, y_test_preds))"
      ]
    },
    {
      "cell_type": "markdown",
      "metadata": {
        "id": "RXJqBG4yVz7x"
      },
      "source": [
        "# (4) LightGBM - Baseline"
      ]
    },
    {
      "cell_type": "code",
      "execution_count": null,
      "metadata": {
        "colab": {
          "base_uri": "https://localhost:8080/"
        },
        "id": "Mla2WqADV4Ch",
        "outputId": "ed7a4874-3f69-471d-ce3d-3ef0294d02e2"
      },
      "outputs": [
        {
          "ename": "",
          "evalue": "",
          "output_type": "error",
          "traceback": [
            "\u001b[1;31mRunning cells with 'c:\\Users\\sutha\\AppData\\Local\\Programs\\Python\\Python37-32\\python.exe' requires the ipykernel package.\n",
            "\u001b[1;31mRun the following command to install 'ipykernel' into the Python environment. \n",
            "\u001b[1;31mCommand: 'c:/Users/sutha/AppData/Local/Programs/Python/Python37-32/python.exe -m pip install ipykernel -U --user --force-reinstall'"
          ]
        }
      ],
      "source": [
        "lgbModel = lgb.LGBMRegressor()\n",
        "lgbModel.fit(X_train, y_train)\n",
        "y_train_prediction = lgbModel.predict(X_train)\n",
        "y_test_prediction = lgbModel.predict(X_test)\n",
        "# MSE\n",
        "print('MSE (train):', mean_squared_error(y_train, y_train_prediction))\n",
        "print('MSE (test):', mean_squared_error(y_test, y_test_prediction))\n",
        "\n",
        "# RMSE\n",
        "print('RMSE (train):',  np.sqrt(mean_squared_error(y_train, y_train_prediction)))\n",
        "print('RMSE (test):', np.sqrt(mean_squared_error(y_test, y_test_prediction)))\n",
        "\n",
        "# MAE\n",
        "print('MAE (train):', mean_absolute_error(y_train, y_train_prediction))\n",
        "print('MAE (test):', mean_absolute_error(y_test, y_test_prediction))\n",
        "\n",
        "# R2 Score\n",
        "print('R2 Score (train):', r2_score(y_train, y_train_prediction))\n",
        "print('R2 Score (test):', r2_score(y_test, y_test_prediction))\n"
      ]
    },
    {
      "cell_type": "markdown",
      "metadata": {
        "id": "08EpJJKTWIwf"
      },
      "source": [
        "# (4) LightGBM - Improved"
      ]
    },
    {
      "cell_type": "code",
      "execution_count": null,
      "metadata": {
        "colab": {
          "base_uri": "https://localhost:8080/"
        },
        "id": "_ExgRcXDX85U",
        "outputId": "3a5a7758-5125-4ce4-f308-0e200929406a"
      },
      "outputs": [
        {
          "ename": "",
          "evalue": "",
          "output_type": "error",
          "traceback": [
            "\u001b[1;31mRunning cells with 'c:\\Users\\sutha\\AppData\\Local\\Programs\\Python\\Python37-32\\python.exe' requires the ipykernel package.\n",
            "\u001b[1;31mRun the following command to install 'ipykernel' into the Python environment. \n",
            "\u001b[1;31mCommand: 'c:/Users/sutha/AppData/Local/Programs/Python/Python37-32/python.exe -m pip install ipykernel -U --user --force-reinstall'"
          ]
        }
      ],
      "source": [
        "\n",
        "lgbModel = lgb.LGBMRegressor()\n",
        "\n",
        "params = { \n",
        "            'learning_rate': [0.025, 0.05, 0.1, 0.2],\n",
        "            'num_leaves': [10, 20, 30, 40],\n",
        "            'n_estimators': [50, 100, 150]\n",
        "         }\n",
        "\n",
        "randomSearchCVLGB = RandomizedSearchCV(estimator=lgbModel,\n",
        "                         param_distributions=params,\n",
        "                         n_jobs=1,\n",
        "                         scoring='r2',\n",
        "                         cv=5,\n",
        "                         verbose=1)\n",
        "\n",
        "randomSearchCVLGB.fit(X_train, y_train)\n",
        "randomSearchCVLGB.best_params_"
      ]
    },
    {
      "cell_type": "code",
      "execution_count": null,
      "metadata": {
        "colab": {
          "base_uri": "https://localhost:8080/"
        },
        "id": "vse2k3NfM-iX",
        "outputId": "587a4ee3-c1c0-4f70-e2ef-4a544b52cfa6"
      },
      "outputs": [
        {
          "ename": "",
          "evalue": "",
          "output_type": "error",
          "traceback": [
            "\u001b[1;31mRunning cells with 'c:\\Users\\sutha\\AppData\\Local\\Programs\\Python\\Python37-32\\python.exe' requires the ipykernel package.\n",
            "\u001b[1;31mRun the following command to install 'ipykernel' into the Python environment. \n",
            "\u001b[1;31mCommand: 'c:/Users/sutha/AppData/Local/Programs/Python/Python37-32/python.exe -m pip install ipykernel -U --user --force-reinstall'"
          ]
        }
      ],
      "source": [
        "lgbBestModel = lgb.LGBMRegressor(learning_rate=0.05, n_estimators= 100, num_leaves= 40)\n",
        "lgbBestModel.fit(X_train, y_train)\n",
        "y_train_prediction = lgbBestModel.predict(X_train)\n",
        "y_test_prediction = lgbBestModel.predict(X_test)\n",
        "# MSE\n",
        "print('MSE (train):', mean_squared_error(y_train, y_train_prediction))\n",
        "print('MSE (test):', mean_squared_error(y_test, y_test_prediction))\n",
        "\n",
        "# RMSE\n",
        "print('RMSE (train):',  np.sqrt(mean_squared_error(y_train, y_train_prediction)))\n",
        "print('RMSE (test):', np.sqrt(mean_squared_error(y_test, y_test_prediction)))\n",
        "\n",
        "# MAE\n",
        "print('MAE (train):', mean_absolute_error(y_train, y_train_prediction))\n",
        "print('MAE (test):', mean_absolute_error(y_test, y_test_prediction))\n",
        "\n",
        "# R2 Score\n",
        "print('R2 Score (train):', r2_score(y_train, y_train_prediction))\n",
        "print('R2 Score (test):', r2_score(y_test, y_test_prediction))"
      ]
    },
    {
      "cell_type": "markdown",
      "metadata": {
        "id": "fedvBmGJZHm8"
      },
      "source": [
        "# (5) Lasso Regression - Baseline\n"
      ]
    },
    {
      "cell_type": "code",
      "execution_count": null,
      "metadata": {
        "colab": {
          "base_uri": "https://localhost:8080/"
        },
        "id": "uFqXy5W-ZLoh",
        "outputId": "a6841f24-e80e-404b-910e-90ad8d6369aa"
      },
      "outputs": [
        {
          "ename": "",
          "evalue": "",
          "output_type": "error",
          "traceback": [
            "\u001b[1;31mRunning cells with 'c:\\Users\\sutha\\AppData\\Local\\Programs\\Python\\Python37-32\\python.exe' requires the ipykernel package.\n",
            "\u001b[1;31mRun the following command to install 'ipykernel' into the Python environment. \n",
            "\u001b[1;31mCommand: 'c:/Users/sutha/AppData/Local/Programs/Python/Python37-32/python.exe -m pip install ipykernel -U --user --force-reinstall'"
          ]
        }
      ],
      "source": [
        "lasso_regression = LassoCV()\n",
        "lasso_regression.fit(X_train, y_train)\n",
        "\n",
        "y_train_preds = lasso_regression.predict(X_train)\n",
        "y_test_preds = lasso_regression.predict(X_test)\n",
        "\n",
        "# MSE\n",
        "print('MSE (train):', mean_squared_error(y_train, y_train_preds))\n",
        "print('MSE (test):', mean_squared_error(y_test, y_test_preds))\n",
        "\n",
        "# RMSE\n",
        "print('RMSE (train):',  np.sqrt(mean_squared_error(y_train, y_train_preds)))\n",
        "print('RMSE (test):', np.sqrt(mean_squared_error(y_test, y_test_preds)))\n",
        "\n",
        "# MAE\n",
        "print('MAE (train):', mean_absolute_error(y_train, y_train_preds))\n",
        "print('MAE (test):', mean_absolute_error(y_test, y_test_preds))\n",
        "\n",
        "# R2 Score\n",
        "print('R2 Score (train):', r2_score(y_train, y_train_preds))\n",
        "print('R2 Score (test):', r2_score(y_test, y_test_preds))"
      ]
    },
    {
      "cell_type": "markdown",
      "metadata": {
        "id": "zqhAg_1HZUBE"
      },
      "source": [
        "# (5) Lasso Regression - Improved\n",
        "\n"
      ]
    },
    {
      "cell_type": "code",
      "execution_count": null,
      "metadata": {
        "colab": {
          "base_uri": "https://localhost:8080/",
          "height": 172
        },
        "id": "0sNBATlIuU2e",
        "outputId": "02ab4af7-5170-49cc-8f26-456ab8c10347"
      },
      "outputs": [
        {
          "ename": "",
          "evalue": "",
          "output_type": "error",
          "traceback": [
            "\u001b[1;31mRunning cells with 'c:\\Users\\sutha\\AppData\\Local\\Programs\\Python\\Python37-32\\python.exe' requires the ipykernel package.\n",
            "\u001b[1;31mRun the following command to install 'ipykernel' into the Python environment. \n",
            "\u001b[1;31mCommand: 'c:/Users/sutha/AppData/Local/Programs/Python/Python37-32/python.exe -m pip install ipykernel -U --user --force-reinstall'"
          ]
        }
      ],
      "source": [
        "params = {\"fit_intercept\": [True, False],\n",
        "          \"copy_X\": [True, False],\n",
        "          \"positive\": [True, False]\n",
        "         }\n",
        "\n",
        "improved_lasso_r = LassoCV()\n",
        "\n",
        "grid_lasso_r = RandomizedSearchCV(estimator=improved_lasso_r, \n",
        "                             param_distributions=params, \n",
        "                             cv = 2, \n",
        "                             n_jobs=-1)\n",
        "\n",
        "grid_lasso_r.fit(X_train, y_train)"
      ]
    },
    {
      "cell_type": "code",
      "execution_count": null,
      "metadata": {
        "colab": {
          "base_uri": "https://localhost:8080/"
        },
        "id": "o4H99paKFZSg",
        "outputId": "176ce0a0-894c-40bc-df32-f2ab849bc360"
      },
      "outputs": [
        {
          "ename": "",
          "evalue": "",
          "output_type": "error",
          "traceback": [
            "\u001b[1;31mRunning cells with 'c:\\Users\\sutha\\AppData\\Local\\Programs\\Python\\Python37-32\\python.exe' requires the ipykernel package.\n",
            "\u001b[1;31mRun the following command to install 'ipykernel' into the Python environment. \n",
            "\u001b[1;31mCommand: 'c:/Users/sutha/AppData/Local/Programs/Python/Python37-32/python.exe -m pip install ipykernel -U --user --force-reinstall'"
          ]
        }
      ],
      "source": [
        "grid_lasso_r.best_params_"
      ]
    },
    {
      "cell_type": "code",
      "execution_count": null,
      "metadata": {
        "colab": {
          "base_uri": "https://localhost:8080/"
        },
        "id": "m9KfVD0wSXBO",
        "outputId": "d50db7a0-dee4-469f-cbcd-4bffaa880656"
      },
      "outputs": [
        {
          "ename": "",
          "evalue": "",
          "output_type": "error",
          "traceback": [
            "\u001b[1;31mRunning cells with 'c:\\Users\\sutha\\AppData\\Local\\Programs\\Python\\Python37-32\\python.exe' requires the ipykernel package.\n",
            "\u001b[1;31mRun the following command to install 'ipykernel' into the Python environment. \n",
            "\u001b[1;31mCommand: 'c:/Users/sutha/AppData/Local/Programs/Python/Python37-32/python.exe -m pip install ipykernel -U --user --force-reinstall'"
          ]
        }
      ],
      "source": [
        "X_train, X_test, y_train, y_test = train_test_split(train, y, test_size = 0.2, \\\n",
        "                                                    random_state = 25)\n",
        "\n",
        "best_lasso_r = LassoCV(positive=True, fit_intercept=True, copy_X=True)\n",
        "best_lasso_r.fit(X_train, y_train)\n",
        "\n",
        "y_train_preds = best_lasso_r.predict(X_train)\n",
        "y_test_preds = best_lasso_r.predict(X_test)\n",
        "\n",
        "# MSE\n",
        "print('MSE (train):', mean_squared_error(y_train, y_train_preds))\n",
        "print('MSE (test):', mean_squared_error(y_test, y_test_preds))\n",
        "\n",
        "# RMSE\n",
        "print('RMSE (train):',  np.sqrt(mean_squared_error(y_train, y_train_preds)))\n",
        "print('RMSE (test):', np.sqrt(mean_squared_error(y_test, y_test_preds)))\n",
        "\n",
        "# MAE\n",
        "print('MAE (train):', mean_absolute_error(y_train, y_train_preds))\n",
        "print('MAE (test):', mean_absolute_error(y_test, y_test_preds))\n",
        "\n",
        "# R2 Score\n",
        "print('R2 Score (train):', r2_score(y_train, y_train_preds))\n",
        "print('R2 Score (test):', r2_score(y_test, y_test_preds))"
      ]
    },
    {
      "cell_type": "markdown",
      "metadata": {
        "id": "8J0Ug4fMzS-P"
      },
      "source": [
        "# (6) Neural Network - Baseline"
      ]
    },
    {
      "cell_type": "code",
      "execution_count": null,
      "metadata": {
        "id": "-puYJYdazZ_T"
      },
      "outputs": [
        {
          "ename": "",
          "evalue": "",
          "output_type": "error",
          "traceback": [
            "\u001b[1;31mRunning cells with 'c:\\Users\\sutha\\AppData\\Local\\Programs\\Python\\Python37-32\\python.exe' requires the ipykernel package.\n",
            "\u001b[1;31mRun the following command to install 'ipykernel' into the Python environment. \n",
            "\u001b[1;31mCommand: 'c:/Users/sutha/AppData/Local/Programs/Python/Python37-32/python.exe -m pip install ipykernel -U --user --force-reinstall'"
          ]
        }
      ],
      "source": [
        "# code to disable warnings adapted from https://stackoverflow.com/questions/32612180/eliminating-warnings-from-scikit-learn\n",
        "def warn(*args, **kwargs):\n",
        "    pass\n",
        "import warnings\n",
        "warnings.warn = warn"
      ]
    },
    {
      "cell_type": "code",
      "execution_count": null,
      "metadata": {
        "colab": {
          "base_uri": "https://localhost:8080/"
        },
        "id": "zZjKgk4azsae",
        "outputId": "f5a5ef51-8220-4690-a984-15c60f1ce084"
      },
      "outputs": [
        {
          "ename": "",
          "evalue": "",
          "output_type": "error",
          "traceback": [
            "\u001b[1;31mRunning cells with 'c:\\Users\\sutha\\AppData\\Local\\Programs\\Python\\Python37-32\\python.exe' requires the ipykernel package.\n",
            "\u001b[1;31mRun the following command to install 'ipykernel' into the Python environment. \n",
            "\u001b[1;31mCommand: 'c:/Users/sutha/AppData/Local/Programs/Python/Python37-32/python.exe -m pip install ipykernel -U --user --force-reinstall'"
          ]
        }
      ],
      "source": [
        "# https://scikit-learn.org/stable/modules/generated/sklearn.neural_network.MLPRegressor.html\n",
        "nn = MLPRegressor(random_state=42)\n",
        "                        \n",
        "nn.fit(X_train, y_train)\n",
        "\n",
        "y_train_preds = nn.predict(X_train)\n",
        "y_test_preds = nn.predict(X_test)\n",
        "\n",
        "# MSE\n",
        "print('MSE (train):', mean_squared_error(y_train, y_train_preds))\n",
        "print('MSE (test):', mean_squared_error(y_test, y_test_preds))\n",
        "\n",
        "# RMSE\n",
        "print('RMSE (train):',  np.sqrt(mean_squared_error(y_train, y_train_preds)))\n",
        "print('RMSE (test):', np.sqrt(mean_squared_error(y_test, y_test_preds)))\n",
        "\n",
        "# MAE\n",
        "print('MAE (train):', mean_absolute_error(y_train, y_train_preds))\n",
        "print('MAE (test):', mean_absolute_error(y_test, y_test_preds))\n",
        "\n",
        "# R2 Score\n",
        "print('R2 Score (train):', r2_score(y_train, y_train_preds))\n",
        "print('R2 Score (test):', r2_score(y_test, y_test_preds))"
      ]
    },
    {
      "attachments": {},
      "cell_type": "markdown",
      "metadata": {
        "id": "cf2NPLJ60aPE"
      },
      "source": [
        "# (6) Neural Network - Improved"
      ]
    },
    {
      "cell_type": "code",
      "execution_count": null,
      "metadata": {
        "colab": {
          "base_uri": "https://localhost:8080/"
        },
        "id": "zE47Tksz0SUA",
        "outputId": "3f2d5f79-e191-4dd3-c6bd-6ad15a3df2ce"
      },
      "outputs": [
        {
          "ename": "",
          "evalue": "",
          "output_type": "error",
          "traceback": [
            "\u001b[1;31mRunning cells with 'c:\\Users\\sutha\\AppData\\Local\\Programs\\Python\\Python37-32\\python.exe' requires the ipykernel package.\n",
            "\u001b[1;31mRun the following command to install 'ipykernel' into the Python environment. \n",
            "\u001b[1;31mCommand: 'c:/Users/sutha/AppData/Local/Programs/Python/Python37-32/python.exe -m pip install ipykernel -U --user --force-reinstall'"
          ]
        }
      ],
      "source": [
        "# Find the best hyperparameters for neural network\n",
        "# https://scikit-learn.org/stable/modules/generated/sklearn.neural_network.MLPRegressor.html\n",
        "# https://scikit-learn.org/stable/modules/generated/sklearn.model_selection.RandomizedSearchCV.html\n",
        "\n",
        "nn_grid = {\"hidden_layer_sizes\": [(10,), (20,), (30,), (40,), (50,), (60,), (70,), (80,), (90,), (100,)],\n",
        "           \"activation\": ['identity', 'logistic', 'tanh', 'relu'],\n",
        "           \"solver\": ['lbfgs','sgd', 'adam'],\n",
        "           \"alpha\": [0.0001, 0.0005, 0.001],\n",
        "           \"learning_rate_init\": [0.001, 0.005, 0.01],\n",
        "           }\n",
        "\n",
        "randomized_search_nn_model = RandomizedSearchCV(MLPRegressor(),\n",
        "                              param_distributions=nn_grid,\n",
        "                              n_jobs=-1,\n",
        "                              random_state=42,\n",
        "                              n_iter=50,\n",
        "                              cv=5,)\n",
        "\n",
        "randomized_search_nn_model.fit(X_train, y_train)\n",
        "randomized_search_nn_model.best_params_"
      ]
    },
    {
      "cell_type": "code",
      "execution_count": null,
      "metadata": {
        "colab": {
          "base_uri": "https://localhost:8080/"
        },
        "id": "dBxMM4Ew0te8",
        "outputId": "2ff4e9fa-aadd-4239-a963-9f018d8ea6e5"
      },
      "outputs": [
        {
          "ename": "",
          "evalue": "",
          "output_type": "error",
          "traceback": [
            "\u001b[1;31mRunning cells with 'c:\\Users\\sutha\\AppData\\Local\\Programs\\Python\\Python37-32\\python.exe' requires the ipykernel package.\n",
            "\u001b[1;31mRun the following command to install 'ipykernel' into the Python environment. \n",
            "\u001b[1;31mCommand: 'c:/Users/sutha/AppData/Local/Programs/Python/Python37-32/python.exe -m pip install ipykernel -U --user --force-reinstall'"
          ]
        }
      ],
      "source": [
        "# Create neural network using the best hyperparameters\n",
        "best_nn_model = MLPRegressor(solver='lbfgs',\n",
        "                             learning_rate_init=0.001,\n",
        "                             hidden_layer_sizes=(80, ),\n",
        "                             alpha=0.0001,\n",
        "                             activation='logistic',\n",
        "                             random_state=42\n",
        "                             )\n",
        "best_nn_model.fit(X_train, y_train)\n",
        "\n",
        "y_train_preds = best_nn_model.predict(X_train)\n",
        "y_test_preds = best_nn_model.predict(X_test)\n",
        "\n",
        "# MSE\n",
        "print('MSE (train):', mean_squared_error(y_train, y_train_preds))\n",
        "print('MSE (test):', mean_squared_error(y_test, y_test_preds))\n",
        "\n",
        "# RMSE\n",
        "print('RMSE (train):',  np.sqrt(mean_squared_error(y_train, y_train_preds)))\n",
        "print('RMSE (test):', np.sqrt(mean_squared_error(y_test, y_test_preds)))\n",
        "\n",
        "# MAE\n",
        "print('MAE (train):', mean_absolute_error(y_train, y_train_preds))\n",
        "print('MAE (test):', mean_absolute_error(y_test, y_test_preds))\n",
        "\n",
        "# R2 Score\n",
        "print('R2 Score (train):', r2_score(y_train, y_train_preds))\n",
        "print('R2 Score (test):', r2_score(y_test, y_test_preds))"
      ]
    },
    {
      "cell_type": "code",
      "execution_count": null,
      "metadata": {
        "colab": {
          "base_uri": "https://localhost:8080/",
          "height": 130
        },
        "id": "H3akYPag2CmT",
        "outputId": "ed977b75-c104-47fd-8ab9-209193c2ce7b"
      },
      "outputs": [
        {
          "ename": "",
          "evalue": "",
          "output_type": "error",
          "traceback": [
            "\u001b[1;31mRunning cells with 'c:\\Users\\sutha\\AppData\\Local\\Programs\\Python\\Python37-32\\python.exe' requires the ipykernel package.\n",
            "\u001b[1;31mRun the following command to install 'ipykernel' into the Python environment. \n",
            "\u001b[1;31mCommand: 'c:/Users/sutha/AppData/Local/Programs/Python/Python37-32/python.exe -m pip install ipykernel -U --user --force-reinstall'"
          ]
        }
      ],
      "source": []
    }
  ],
  "metadata": {
    "colab": {
      "provenance": []
    },
    "kernelspec": {
      "display_name": "Python 3",
      "name": "python3"
    },
    "language_info": {
      "name": "python",
      "version": "3.7.2"
    }
  },
  "nbformat": 4,
  "nbformat_minor": 0
}
